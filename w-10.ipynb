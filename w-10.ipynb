{
 "cells": [
  {
   "cell_type": "markdown",
   "id": "44f11d5e",
   "metadata": {},
   "source": [
    "## create a series from a list, numpy array and dictionary?\n"
   ]
  },
  {
   "cell_type": "code",
   "execution_count": 13,
   "id": "cc1d9485",
   "metadata": {},
   "outputs": [
    {
     "name": "stdout",
     "output_type": "stream",
     "text": [
      "0    c\n",
      "1    o\n",
      "2    f\n",
      "dtype: object\n",
      "c       2\n",
      "r     444\n",
      "cc      7\n",
      "dtype: int64\n",
      "0    c\n",
      "1    v\n",
      "2    n\n",
      "dtype: object\n"
     ]
    }
   ],
   "source": [
    "import pandas as pd\n",
    "import numpy as np\n",
    "lst=['c','o','f']\n",
    "s=pd.Series(lst)\n",
    "print(s)\n",
    "dct={'c':2,'r':444,'cc':7}\n",
    "o=pd.Series(dct)\n",
    "print(o)\n",
    "arr=np.array(['c','v','n'])\n",
    "pp=pd.Series(arr)\n",
    "print(pp)"
   ]
  },
  {
   "cell_type": "code",
   "execution_count": 14,
   "id": "ae3783f8",
   "metadata": {},
   "outputs": [
    {
     "name": "stdout",
     "output_type": "stream",
     "text": [
      "  Roll Number     Name  Marks In Percentage Grade  Subject\n",
      "0     20CSE29   Amelia                   97     A  Physics\n",
      "1     20CSE49      Sam                   90     A  Physics\n",
      "2     20CSE36     Dean                   70     C  Physics\n",
      "3     20CSE44  Jessica                   82     B  Physics\n"
     ]
    }
   ],
   "source": [
    "import pandas as pd\n",
    "df = pd.DataFrame({'Roll Number': ['20CSE29', '20CSE49', '20CSE36', '20CSE44'],\n",
    "'Name': ['Amelia', 'Sam', 'Dean', 'Jessica'],\n",
    "'Marks In Percentage': [97, 90, 70, 82],\n",
    "'Grade': ['A', 'A', 'C', 'B'],\n",
    "'Subject': ['Physics', 'Physics', 'Physics', 'Physics']})\n",
    "print(df)\n"
   ]
  },
  {
   "cell_type": "code",
   "execution_count": 15,
   "id": "b43e3468",
   "metadata": {},
   "outputs": [
    {
     "name": "stdout",
     "output_type": "stream",
     "text": [
      "Series1:\n",
      "0     2\n",
      "1     4\n",
      "2     8\n",
      "3    20\n",
      "4    10\n",
      "5    47\n",
      "6    99\n",
      "dtype: int64\n",
      "\n",
      "Series2:\n",
      "0     1\n",
      "1     3\n",
      "2     6\n",
      "3     4\n",
      "4    10\n",
      "5    99\n",
      "6    50\n",
      "dtype: int64\n",
      "\n",
      "Items of ps1 not present in ps2:\n",
      "0     2\n",
      "2     8\n",
      "3    20\n",
      "5    47\n",
      "dtype: int64\n"
     ]
    }
   ],
   "source": [
    "ps1 = pd.Series([2, 4, 8, 20, 10, 47, 99])\n",
    "ps2 = pd.Series([1, 3, 6, 4, 10, 99, 50])\n",
    "print(\"Series1:\")\n",
    "print(ps1)\n",
    "print(\"\\nSeries2:\")\n",
    "print(ps2)\n",
    "print(\"\\nItems of ps1 not present in ps2:\")\n",
    "res = ps1[~ps1.isin(ps2)]\n",
    "print(res)"
   ]
  },
  {
   "cell_type": "code",
   "execution_count": 19,
   "id": "67d522db",
   "metadata": {},
   "outputs": [
    {
     "name": "stdout",
     "output_type": "stream",
     "text": [
      "      column_1  colume_2  column_3\n",
      "row1         1         2         3\n",
      "row2         4         5         6\n"
     ]
    }
   ],
   "source": [
    "import numpy as np\n",
    "import pandas as pd\n",
    "numpyarr=np.array([[1,2,3],[4,5,6]])\n",
    "panda_df=pd.DataFrame(data=numpyarr,index=[\"row1\",\"row2\"],columns=[\"column_1\",\"colume_2\",\"column_3\"])\n",
    "print(panda_df)"
   ]
  }
 ],
 "metadata": {
  "kernelspec": {
   "display_name": "Python 3 (ipykernel)",
   "language": "python",
   "name": "python3"
  },
  "language_info": {
   "codemirror_mode": {
    "name": "ipython",
    "version": 3
   },
   "file_extension": ".py",
   "mimetype": "text/x-python",
   "name": "python",
   "nbconvert_exporter": "python",
   "pygments_lexer": "ipython3",
   "version": "3.10.9"
  }
 },
 "nbformat": 4,
 "nbformat_minor": 5
}
