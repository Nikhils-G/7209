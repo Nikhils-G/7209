{
 "cells": [
  {
   "cell_type": "code",
   "execution_count": 1,
   "id": "b9c79b7e",
   "metadata": {},
   "outputs": [
    {
     "name": "stdout",
     "output_type": "stream",
     "text": [
      "Printing Array\n",
      "[[42964  1758]\n",
      " [13836 63377]\n",
      " [38837 15450]\n",
      " [24922 20625]]\n",
      "Printing numpy array Attributes\n",
      "1> Array Shape is:  (4, 2)\n",
      "2>. Array dimensions are  2\n",
      "3>. Length of each element of array in bytes is  2\n"
     ]
    }
   ],
   "source": [
    "import numpy\n",
    "firstArray = numpy.empty([4,2], dtype = numpy.uint16)\n",
    "print(\"Printing Array\")\n",
    "print(firstArray)\n",
    "print(\"Printing numpy array Attributes\")\n",
    "print(\"1> Array Shape is: \", firstArray.shape)\n",
    "print(\"2>. Array dimensions are \", firstArray.ndim)\n",
    "print(\"3>. Length of each element of array in bytes is \", firstArray.itemsize)"
   ]
  },
  {
   "cell_type": "code",
   "execution_count": 7,
   "id": "11dcc97f",
   "metadata": {},
   "outputs": [
    {
     "name": "stdout",
     "output_type": "stream",
     "text": [
      "[[1 2 3]\n",
      " [4 5 6]\n",
      " [7 8 9]]\n",
      "Converted matrix into a 1-dimensional array\n",
      "[1 2 3 4 5 6 7 8 9]\n",
      "Mean of M:  5.0\n",
      "Mean of z:  0.0\n",
      "Standard deviation of M:  2.581988897471611\n",
      "Standard deviation of z:  1.0\n"
     ]
    }
   ],
   "source": [
    "import numpy as np\n",
    "n = 3\n",
    "M = np.array([[1, 2, 3], [4, 5, 6], [7, 8, 9]])\n",
    "print(M)\n",
    "flattened_M = M.flatten()\n",
    "print(\"Converted matrix into a 1-dimensional array\")\n",
    "print(flattened_M)\n",
    "mean_M = np.mean(flattened_M)\n",
    "std_M = np.std(flattened_M)\n",
    "z = (flattened_M - mean_M) / std_M\n",
    "mean_z = np.mean(z)\n",
    "std_z = np.std(z)\n",
    "print(\"Mean of M: \", mean_M)\n",
    "print(\"Mean of z: \", mean_z)\n",
    "print(\"Standard deviation of M: \", std_M)\n",
    "print(\"Standard deviation of z: \", std_z)"
   ]
  },
  {
   "cell_type": "code",
   "execution_count": 5,
   "id": "c221ba67",
   "metadata": {},
   "outputs": [
    {
     "name": "stdout",
     "output_type": "stream",
     "text": [
      "[[ 1  2  3]\n",
      " [44 65 32]\n",
      " [65 12  7]]\n",
      "[ 1 32  7]\n",
      "[65 65 32]\n"
     ]
    }
   ],
   "source": [
    "import numpy as np\n",
    "arr1=np.array([[1,2,3],[44,65,32],[65,12,7]])\n",
    "print(arr1)\n",
    "min1=np.amin(arr1,1)\n",
    "print(min1)\n",
    "max1=np.amax(arr1,0)\n",
    "print(max1)\n"
   ]
  },
  {
   "cell_type": "code",
   "execution_count": 6,
   "id": "1549cfa0",
   "metadata": {},
   "outputs": [
    {
     "name": "stdout",
     "output_type": "stream",
     "text": [
      "[[0, 1, 2], [1, 2, 3], [2, 3, 4]]\n"
     ]
    }
   ],
   "source": [
    "import numpy as np\n",
    "def create_array(n):\n",
    "    return [[i + j for j in range(n)] for i in range(n)]\n",
    "print(create_array(3))"
   ]
  }
 ],
 "metadata": {
  "kernelspec": {
   "display_name": "Python 3 (ipykernel)",
   "language": "python",
   "name": "python3"
  },
  "language_info": {
   "codemirror_mode": {
    "name": "ipython",
    "version": 3
   },
   "file_extension": ".py",
   "mimetype": "text/x-python",
   "name": "python",
   "nbconvert_exporter": "python",
   "pygments_lexer": "ipython3",
   "version": "3.10.9"
  }
 },
 "nbformat": 4,
 "nbformat_minor": 5
}
