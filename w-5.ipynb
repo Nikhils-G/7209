{
 "cells": [
  {
   "cell_type": "code",
   "execution_count": 18,
   "id": "5be4118c",
   "metadata": {},
   "outputs": [
    {
     "name": "stdout",
     "output_type": "stream",
     "text": [
      "enter any meaning:nikhil\n",
      "the vowels in Stack are = ['i']\n"
     ]
    }
   ],
   "source": [
    "vowels =['a','e','i','o','u']\n",
    "word=input(\"enter any meaning:\")\n",
    "Stack = []\n",
    "for letter in word:\n",
    "    if letter in vowels:\n",
    "        if letter not in Stack:\n",
    "            Stack.append(letter)\n",
    "print(\"the vowels in Stack are =\",list(Stack))"
   ]
  },
  {
   "cell_type": "code",
   "execution_count": 26,
   "id": "f58761ba",
   "metadata": {},
   "outputs": [
    {
     "name": "stdout",
     "output_type": "stream",
     "text": [
      "1 has occurred 2 times\n"
     ]
    }
   ],
   "source": [
    "from collections import Counter\n",
    "lst = [1, 1, 2, 2, 3, 3, 4, 4, 5, 5]\n",
    "x = 1\n",
    "d = Counter(l)\n",
    "print('{} has occurred {} times'.format(x, d[x]))"
   ]
  },
  {
   "cell_type": "code",
   "execution_count": 33,
   "id": "91a56b6a",
   "metadata": {},
   "outputs": [
    {
     "name": "stdout",
     "output_type": "stream",
     "text": [
      "Even lists: [2, 62, 84]\n",
      "Odd lists: [5, 13, 17, 51, 73, 95]\n"
     ]
    }
   ],
   "source": [
    "def Split(mix):\n",
    "\tev_li = []\n",
    "\tod_li = []\n",
    "\tfor i in mix:\n",
    "\t\tif (i % 2 == 0):\n",
    "\t\t\tev_li.append(i)\n",
    "\t\telse:\n",
    "\t\t\tod_li.append(i)\n",
    "\tprint(\"Even lists:\", ev_li)\n",
    "\tprint(\"Odd lists:\", od_li)\n",
    "\n",
    "\n",
    "# Driver Code\n",
    "mix = [2, 5, 13, 17, 51, 62, 73, 84, 95]\n",
    "Split(mix)\n"
   ]
  },
  {
   "cell_type": "code",
   "execution_count": 42,
   "id": "97df1a36",
   "metadata": {},
   "outputs": [
    {
     "name": "stdout",
     "output_type": "stream",
     "text": [
      "even list= [2, 4, 6, 8]\n",
      "even list= [3, 5, 7, 9]\n",
      "None\n"
     ]
    }
   ],
   "source": [
    "def mop(num):\n",
    "    ev_lt=[]\n",
    "    od_lt=[]\n",
    "    for i in num:\n",
    "        if (i % 2 == 0):\n",
    "            ev_lt.append(i)\n",
    "        else:\n",
    "            od_lt.append(i)\n",
    "    print(\"even list=\",ev_lt)\n",
    "    print(\"even list=\",od_lt)\n",
    "num=[2,3,4,5,6,7,8,9]\n",
    "print(mop(num))\n"
   ]
  },
  {
   "cell_type": "code",
   "execution_count": 43,
   "id": "000313d7",
   "metadata": {},
   "outputs": [
    {
     "name": "stdout",
     "output_type": "stream",
     "text": [
      "List:  [5, 6, 7]\n",
      "Tuple:  (9, 10)\n",
      "After adding:  [5, 6, 7, 9, 10]\n"
     ]
    }
   ],
   "source": [
    "li = [5, 6, 7]\n",
    "tupl= (9, 10)\n",
    "print(\"List: \", li)\n",
    "print(\"Tuple: \", tupl)\n",
    "li += tupl\n",
    "print(\"After adding: \",li)"
   ]
  },
  {
   "cell_type": "code",
   "execution_count": 47,
   "id": "7aae76dc",
   "metadata": {},
   "outputs": [
    {
     "name": "stdout",
     "output_type": "stream",
     "text": [
      "list= [5, 6, 7]\n",
      "tuple= (9, 10)\n",
      "(9, 10, 5, 6, 7)\n"
     ]
    }
   ],
   "source": [
    "li = [5, 6, 7]\n",
    "tupl= (9, 10)\n",
    "print(\"list=\",li)\n",
    "print(\"tuple=\",tupl)\n",
    "result=tuple(list(tupl)+li)\n",
    "print(result)"
   ]
  },
  {
   "cell_type": "code",
   "execution_count": 49,
   "id": "18ff6df2",
   "metadata": {},
   "outputs": [
    {
     "name": "stdout",
     "output_type": "stream",
     "text": [
      "The tuple is : \n",
      "(7, 8, 0, 3, 45, 3, 2, 22)\n",
      "The tuple after multiplication is : \n",
      "(56, 0, 0, 135, 135, 6, 44)\n"
     ]
    }
   ],
   "source": [
    "tupl = (7, 8, 0 ,3, 45, 3, 2, 22)\n",
    "print (\"The tuple is : \" )\n",
    "print(tupl)\n",
    "my_result = tuple(i * j for i, j in zip(tupl, tupl[1:]))\n",
    "print(\"The tuple after multiplication is : \")\n",
    "print(my_result)"
   ]
  },
  {
   "cell_type": "code",
   "execution_count": 50,
   "id": "30b779cc",
   "metadata": {},
   "outputs": [
    {
     "name": "stdout",
     "output_type": "stream",
     "text": [
      "(90,)\n"
     ]
    }
   ],
   "source": [
    "tupl1= (9, 10)\n",
    "mg=tuple(i*j for i,j in zip(tupl1,tupl1[1:]))\n",
    "print(mg)"
   ]
  },
  {
   "cell_type": "code",
   "execution_count": 51,
   "id": "3410ba53",
   "metadata": {},
   "outputs": [
    {
     "name": "stdout",
     "output_type": "stream",
     "text": [
      "The original list : [(2, 4), (6, 7), (5, 1), (6, 10), (8, 7)]\n",
      "The Maximum element of list is : 10\n"
     ]
    }
   ],
   "source": [
    "test_list = [(2, 4), (6, 7), (5, 1), (6, 10), (8, 7)]\n",
    "print(\"The original list : \" + str(test_list))\n",
    "res = max(int(j) for i in test_list for j in i)\n",
    "# printing result\n",
    "print(\"The Maximum element of list is : \" + str(res))\n"
   ]
  }
 ],
 "metadata": {
  "kernelspec": {
   "display_name": "Python 3 (ipykernel)",
   "language": "python",
   "name": "python3"
  },
  "language_info": {
   "codemirror_mode": {
    "name": "ipython",
    "version": 3
   },
   "file_extension": ".py",
   "mimetype": "text/x-python",
   "name": "python",
   "nbconvert_exporter": "python",
   "pygments_lexer": "ipython3",
   "version": "3.10.9"
  }
 },
 "nbformat": 4,
 "nbformat_minor": 5
}
