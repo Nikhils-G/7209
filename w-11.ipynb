{
 "cells": [
  {
   "cell_type": "code",
   "execution_count": 9,
   "id": "832bdd82",
   "metadata": {},
   "outputs": [
    {
     "name": "stdout",
     "output_type": "stream",
     "text": [
      "The dataframe has missing values.\n",
      "     A    B   C\n",
      "0  1.0  NaN   9\n",
      "1  2.0  6.0  10\n",
      "2  3.0  7.0  11\n",
      "3  NaN  8.0  12\n"
     ]
    }
   ],
   "source": [
    "import pandas as pd\n",
    "df = pd.DataFrame({'A': [1, 2, 3, None],\n",
    "'B': [None, 6, 7, 8],\n",
    "'C': [9, 10, 11, 12]})\n",
    "if df.isnull().values.any():\n",
    "    print(\"The dataframe has missing values.\")\n",
    "    print(df)\n",
    "else:\n",
    "     print(\"The dataframe has no missing values.\")\n"
   ]
  },
  {
   "cell_type": "code",
   "execution_count": 10,
   "id": "27c94b09",
   "metadata": {},
   "outputs": [
    {
     "name": "stdout",
     "output_type": "stream",
     "text": [
      "Number of missing values in each column:\n",
      "A    1\n",
      "B    1\n",
      "C    0\n",
      "dtype: int64\n"
     ]
    }
   ],
   "source": [
    "import pandas as pd\n",
    "df = pd.DataFrame({'A': [1, 2, None, 4],\n",
    "'B': [None, 6, 7, 8],\n",
    "'C': [9, 10, 11, 12]})\n",
    "missing_values_count = df.isnull().sum()\n",
    "print(\"Number of missing values in each column:\")\n",
    "print(missing_values_count)\n"
   ]
  },
  {
   "cell_type": "code",
   "execution_count": 11,
   "id": "d2c382fc",
   "metadata": {},
   "outputs": [
    {
     "name": "stdout",
     "output_type": "stream",
     "text": [
      "Dataframe after replacing missing values with mean:\n",
      "          A    B   C\n",
      "0  1.000000  7.0   9\n",
      "1  2.000000  6.0  10\n",
      "2  2.333333  7.0  11\n",
      "3  4.000000  8.0  12\n"
     ]
    }
   ],
   "source": [
    "import pandas as pd\n",
    "df = pd.DataFrame({'A': [1, 2, None, 4],\n",
    "'B': [None, 6, 7, 8],\n",
    "'C': [9, 10, 11, 12]})\n",
    "df.fillna(df.mean(), inplace=True)\n",
    "print(\"Dataframe after replacing missing values with mean:\")\n",
    "print(df)"
   ]
  },
  {
   "cell_type": "code",
   "execution_count": 12,
   "id": "9d86430f",
   "metadata": {},
   "outputs": [
    {
     "name": "stdout",
     "output_type": "stream",
     "text": [
      "Male Group\n",
      "   Gender  Height\n",
      "0      m     172\n",
      "3      m     173\n",
      "5      m     175\n",
      "6      m     178\n",
      "Female Group\n",
      "   Gender  Height\n",
      "1      f     171\n",
      "2      f     169\n",
      "4      f     170\n",
      "Average height of Male group: 174.5\n",
      "Average height of Female group: 170.0\n"
     ]
    }
   ],
   "source": [
    "import pandas as pd\n",
    "data = {'Gender': ['m', 'f', 'f', 'm', 'f', 'm', 'm'],\n",
    "'Height': [172, 171, 169, 173, 170, 175, 178]}\n",
    "df = pd.DataFrame(data)\n",
    "male_group = df[df['Gender'] == 'm']\n",
    "female_group = df[df['Gender'] == 'f']\n",
    "male_avg_height = male_group['Height'].mean()\n",
    "female_avg_height = female_group['Height'].mean()\n",
    "print(\"Male Group\\n\",male_group)\n",
    "print(\"Female Group\\n\",female_group)\n",
    "print(\"Average height of Male group:\", male_avg_height)\n",
    "print(\"Average height of Female group:\", female_avg_height)\n"
   ]
  },
  {
   "cell_type": "code",
   "execution_count": null,
   "id": "be3c58e7",
   "metadata": {},
   "outputs": [],
   "source": []
  }
 ],
 "metadata": {
  "kernelspec": {
   "display_name": "Python 3 (ipykernel)",
   "language": "python",
   "name": "python3"
  },
  "language_info": {
   "codemirror_mode": {
    "name": "ipython",
    "version": 3
   },
   "file_extension": ".py",
   "mimetype": "text/x-python",
   "name": "python",
   "nbconvert_exporter": "python",
   "pygments_lexer": "ipython3",
   "version": "3.10.9"
  }
 },
 "nbformat": 4,
 "nbformat_minor": 5
}
