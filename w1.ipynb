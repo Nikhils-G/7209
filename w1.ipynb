{
 "cells": [
  {
   "cell_type": "code",
   "execution_count": 19,
   "id": "dc8d4e19",
   "metadata": {},
   "outputs": [
    {
     "name": "stdout",
     "output_type": "stream",
     "text": [
      "radius of sphere=77\n",
      "1913090.6666666667\n"
     ]
    }
   ],
   "source": [
    "r=int(input(\"radius of sphere=\")) #valome of sphere\n",
    "vol=4/3*22/7*r*r*r\n",
    "print(vol)"
   ]
  },
  {
   "cell_type": "code",
   "execution_count": 1,
   "id": "1d7e9e5b",
   "metadata": {},
   "outputs": [
    {
     "name": "stdout",
     "output_type": "stream",
     "text": [
      "enter the number1=\n",
      "2\n",
      "enter the number2=\n",
      "33\n",
      "enter the number3=\n",
      "4444\n",
      "the max no is  4444\n",
      "the min no is  2\n"
     ]
    }
   ],
   "source": [
    "num1=int(input(\"enter the number1=\\n\")) #the maxmimum and minimum number in list\n",
    "num2=int(input(\"enter the number2=\\n\"))\n",
    "num3=int(input(\"enter the number3=\\n\"))\n",
    "list=[num1,num2,num3]\n",
    "print(\"the max no is \",max(list))\n",
    "print(\"the min no is \",min(list))"
   ]
  },
  {
   "cell_type": "code",
   "execution_count": 5,
   "id": "a878ebed",
   "metadata": {},
   "outputs": [
    {
     "name": "stdout",
     "output_type": "stream",
     "text": [
      "enter the number of book purchased love=60\n",
      "what is the total cost of books Nikhil????\n",
      "Nikhil:lavanya mam it cost=$ 945.4499999999999\n",
      "the cost of per_book is = 14.969999999999999\n"
     ]
    }
   ],
   "source": [
    "cover_price=24.95\n",
    "discount=0.40\n",
    "per_one=(cover_price-(discount*cover_price))\n",
    "ship_cost=3\n",
    "ship_additionalcost=0.75\n",
    "purchased=int(input(\"enter the number of book purchased love=\"))\n",
    "if(purchased):\n",
    "   cost=((ship_additionalcost*(purchased-1))+(per_one*(purchased-1))+(per_one+3))\n",
    "   print(\"what is the total cost of books Nikhil????\")\n",
    "   print(\"Nikhil:lavanya mam it cost=$\",cost)\n",
    "   print(\"the cost of per_book is =\",per_one)"
   ]
  },
  {
   "cell_type": "code",
   "execution_count": 10,
   "id": "d74da161",
   "metadata": {
    "scrolled": true
   },
   "outputs": [
    {
     "name": "stdout",
     "output_type": "stream",
     "text": [
      "enter the number to find a its square root=7\n",
      "3.5\n"
     ]
    }
   ],
   "source": [
    "n=int(input(\"enter the number to find a its square root=\"))\n",
    "sqaureroot=n*1/2\n",
    "print(sqaureroot)"
   ]
  },
  {
   "cell_type": "code",
   "execution_count": 18,
   "id": "5597dd0b",
   "metadata": {
    "scrolled": true
   },
   "outputs": [
    {
     "name": "stdout",
     "output_type": "stream",
     "text": [
      "enter the temperature in celsius 56\n",
      "the temp in fahrenheit= 132.8\n"
     ]
    }
   ],
   "source": [
    "temp=float(input(\"enter the temperature in celsius \"))\n",
    "fahrenheit=((temp*9/5)+32)\n",
    "print(\"the temp in fahrenheit=\",fahrenheit)"
   ]
  },
  {
   "cell_type": "code",
   "execution_count": null,
   "id": "371ad884",
   "metadata": {},
   "outputs": [],
   "source": []
  }
 ],
 "metadata": {
  "kernelspec": {
   "display_name": "Python 3 (ipykernel)",
   "language": "python",
   "name": "python3"
  },
  "language_info": {
   "codemirror_mode": {
    "name": "ipython",
    "version": 3
   },
   "file_extension": ".py",
   "mimetype": "text/x-python",
   "name": "python",
   "nbconvert_exporter": "python",
   "pygments_lexer": "ipython3",
   "version": "3.10.9"
  }
 },
 "nbformat": 4,
 "nbformat_minor": 5
}
