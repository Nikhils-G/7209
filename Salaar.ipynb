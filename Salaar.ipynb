{
 "cells": [
  {
   "cell_type": "markdown",
   "id": "414d1ce2",
   "metadata": {},
   "source": [
    "\n",
    "## Salaar The Saga \n",
    "                   \n",
    "                     - parshanth neel"
   ]
  },
  {
   "cell_type": "code",
   "execution_count": 1,
   "id": "8585ae94",
   "metadata": {},
   "outputs": [
    {
     "name": "stdout",
     "output_type": "stream",
     "text": [
      "options are: dict_keys(['s', 'a', 'l', 'aa', 'r'])\n",
      "DARLINGEY  = s\n",
      "the meaning= Prabhas(Our Darling 😁)\n",
      "DARLINGEY  = a\n",
      "the meaning= Upcoming Salaar\n",
      "DARLINGEY  = l\n",
      "the meaning= Teaser at\n",
      "DARLINGEY  = aa\n",
      "the meaning=  july 6 \n",
      "DARLINGEY  = r\n",
      "the meaning= 5:12 am darling celebrations are going to be Huge,Double,etc....\n"
     ]
    }
   ],
   "source": [
    "Hombale_films={\"s\":\"Prabhas(Our Darling 😁)\",\"a\":\"Upcoming Salaar\",\n",
    "               \"l\":\"Teaser at\",\"aa\":\" july 6 \",\n",
    "               \"r\":\"5:12 am darling celebrations are going to be Huge,Double,etc....\"} \n",
    "print(\"options are:\",Hombale_films.keys())\n",
    "s=(input(\"DARLINGEY  = \"))\n",
    "print(\"the meaning=\",Hombale_films.get(s))\n",
    "a=(input(\"DARLINGEY  = \"))\n",
    "print(\"the meaning=\",Hombale_films.get(a))\n",
    "l=(input(\"DARLINGEY  = \"))\n",
    "print(\"the meaning=\",Hombale_films.get(l))\n",
    "aa=(input(\"DARLINGEY  = \"))\n",
    "print(\"the meaning=\",Hombale_films.get(aa))\n",
    "r=(input(\"DARLINGEY  = \"))\n",
    "print(\"the meaning=\",Hombale_films.get(r))"
   ]
  },
  {
   "cell_type": "code",
   "execution_count": null,
   "id": "2110ce43",
   "metadata": {},
   "outputs": [],
   "source": []
  }
 ],
 "metadata": {
  "kernelspec": {
   "display_name": "Python 3 (ipykernel)",
   "language": "python",
   "name": "python3"
  },
  "language_info": {
   "codemirror_mode": {
    "name": "ipython",
    "version": 3
   },
   "file_extension": ".py",
   "mimetype": "text/x-python",
   "name": "python",
   "nbconvert_exporter": "python",
   "pygments_lexer": "ipython3",
   "version": "3.10.9"
  }
 },
 "nbformat": 4,
 "nbformat_minor": 5
}
