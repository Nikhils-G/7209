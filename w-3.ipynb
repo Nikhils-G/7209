{
 "cells": [
  {
   "cell_type": "code",
   "execution_count": 5,
   "id": "80375264",
   "metadata": {},
   "outputs": [
    {
     "name": "stdout",
     "output_type": "stream",
     "text": [
      "Original List : [2, 5, 7, 8, 10, 13, 16]\n",
      "Filtered List : [2, 8, 10, 16]\n"
     ]
    }
   ],
   "source": [
    "def even(n):\n",
    "    return n % 2 == 0\n",
    " \n",
    "a = [2, 5, 7, 8, 10, 13, 16]\n",
    " \n",
    "result = filter(even, a)\n",
    "print('Original List :', a)\n",
    "print('Filtered List :', list(result))\n"
   ]
  },
  {
   "cell_type": "code",
   "execution_count": 9,
   "id": "9d3a1719",
   "metadata": {},
   "outputs": [
    {
     "name": "stdout",
     "output_type": "stream",
     "text": [
      "original list= [2, 3, 4, 5, 6, 7]\n",
      "filtered list= [2, 4, 6]\n"
     ]
    }
   ],
   "source": [
    "def twoFactors(n):\n",
    "    return n % 2 ==0\n",
    "a=[2,3,4,5,6,7]\n",
    "result=filter(twoFactors,a)\n",
    "print(\"original list=\",a)\n",
    "print(\"filtered list=\",list(result))"
   ]
  },
  {
   "cell_type": "code",
   "execution_count": 15,
   "id": "b09d0010",
   "metadata": {},
   "outputs": [
    {
     "name": "stdout",
     "output_type": "stream",
     "text": [
      "enter the number =22\n",
      "the factorial of a given number= 1124000727777607680000\n"
     ]
    }
   ],
   "source": [
    "import math\n",
    "def fact(n):\n",
    "    return (math.factorial(n))\n",
    "number = int(input(\"enter the number =\"))\n",
    "num = fact(number)\n",
    "print(\"the factorial of a given number=\",num)"
   ]
  },
  {
   "cell_type": "code",
   "execution_count": 26,
   "id": "0b7e3330",
   "metadata": {},
   "outputs": [
    {
     "data": {
      "text/plain": [
       "144"
      ]
     },
     "execution_count": 26,
     "metadata": {},
     "output_type": "execute_result"
    }
   ],
   "source": [
    "square = lambda x: x**2\n",
    "type(square)\n",
    "square(12)\n"
   ]
  },
  {
   "cell_type": "code",
   "execution_count": null,
   "id": "8f005126",
   "metadata": {},
   "outputs": [],
   "source": [
    "# task : using the lamda function find the largest value in the given values"
   ]
  }
 ],
 "metadata": {
  "kernelspec": {
   "display_name": "Python 3 (ipykernel)",
   "language": "python",
   "name": "python3"
  },
  "language_info": {
   "codemirror_mode": {
    "name": "ipython",
    "version": 3
   },
   "file_extension": ".py",
   "mimetype": "text/x-python",
   "name": "python",
   "nbconvert_exporter": "python",
   "pygments_lexer": "ipython3",
   "version": "3.10.9"
  }
 },
 "nbformat": 4,
 "nbformat_minor": 5
}
