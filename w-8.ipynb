{
 "cells": [
  {
   "cell_type": "code",
   "execution_count": 2,
   "id": "180cd85a",
   "metadata": {},
   "outputs": [
    {
     "name": "stdout",
     "output_type": "stream",
     "text": [
      "[10 12 14 16 18 20 22 24 26 28 30 32 34 36 38 40 42 44 46 48 50]\n"
     ]
    }
   ],
   "source": [
    "import numpy as np\n",
    "array=np.arange(10,51,2)\n",
    "print(array)"
   ]
  },
  {
   "cell_type": "code",
   "execution_count": 3,
   "id": "0604401a",
   "metadata": {},
   "outputs": [
    {
     "name": "stdout",
     "output_type": "stream",
     "text": [
      "Time taken by np.dot: 0.01535797119140625\n",
      "Time taken by for-loops: 2.7872507572174072\n",
      "Are the results equal? = True\n"
     ]
    }
   ],
   "source": [
    "import numpy as np\n",
    "import time\n",
    "mat_1 = np.random.rand(100, 100)\n",
    "mat_2 = np.random.rand(100, 100)\n",
    "start = time.time()\n",
    "result_np = np.dot(mat_1, mat_2)\n",
    "end = time.time()\n",
    "print(\"Time taken by np.dot:\", end - start)\n",
    "result_loops = np.zeros((100, 100))\n",
    "start = time.time()\n",
    "for i in range(100):\n",
    "    for j in range(100):\n",
    "        for k in range(100):\n",
    "            result_loops[i][j] += mat_1[i][k] * mat_2[k][j]\n",
    "end = time.time()\n",
    "print(\"Time taken by for-loops:\", end - start)\n",
    "print(\"Are the results equal? =\", np.allclose(result_np, result_loops))"
   ]
  },
  {
   "cell_type": "code",
   "execution_count": 23,
   "id": "420a6246",
   "metadata": {},
   "outputs": [
    {
     "name": "stdout",
     "output_type": "stream",
     "text": [
      "original array:\n",
      "[1 2 3 4 4 5 4 6]\n",
      "THE MOST FREQUENTLY OCCURED ONE'S= 4"
     ]
    }
   ],
   "source": [
    "x=np.array([1,2,3,4,4,5,4,6])\n",
    "print(\"original array:\")\n",
    "print(x)\n",
    "y=np.bincount(x)\n",
    "maximum=max(y)\n",
    "for i in range (len(y)):\n",
    "    if y[i]==maximum:\n",
    "        print(\"THE MOST FREQUENTLY OCCURED ONE'S=\",i,end=\"\")"
   ]
  },
  {
   "cell_type": "code",
   "execution_count": 20,
   "id": "29f82bb8",
   "metadata": {},
   "outputs": [
    {
     "name": "stdout",
     "output_type": "stream",
     "text": [
      "Array is :  [1 2 3 4 5]\n",
      "Value to which nearest element is to be found:  3\n",
      "Nearest element to the given values is :  3\n",
      "Index of nearest value is :  2\n"
     ]
    }
   ],
   "source": [
    "import numpy as np\n",
    "arr = np.array([1,2,3,4,5])\n",
    "print(\"Array is : \", arr)\n",
    "x = 3\n",
    "print(\"Value to which nearest element is to be found: \", x)\n",
    "difference_array = np.absolute(arr-x)\n",
    "index = difference_array.argmin()\n",
    "print(\"Nearest element to the given values is : \", arr[index])\n",
    "print(\"Index of nearest value is : \", index)"
   ]
  }
 ],
 "metadata": {
  "kernelspec": {
   "display_name": "Python 3 (ipykernel)",
   "language": "python",
   "name": "python3"
  },
  "language_info": {
   "codemirror_mode": {
    "name": "ipython",
    "version": 3
   },
   "file_extension": ".py",
   "mimetype": "text/x-python",
   "name": "python",
   "nbconvert_exporter": "python",
   "pygments_lexer": "ipython3",
   "version": "3.10.9"
  }
 },
 "nbformat": 4,
 "nbformat_minor": 5
}
