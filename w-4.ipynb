{
 "cells": [
  {
   "cell_type": "markdown",
   "id": "38c59e47",
   "metadata": {},
   "source": [
    "## strings"
   ]
  },
  {
   "cell_type": "code",
   "execution_count": 1,
   "id": "8dcc6f1f",
   "metadata": {},
   "outputs": [
    {
     "name": "stdout",
     "output_type": "stream",
     "text": [
      "enter a name :mll;\n",
      "the character at 0 index position=m\n",
      "the character at 1 index position=l\n",
      "the character at 2 index position=l\n",
      "the character at 3 index position=;\n"
     ]
    }
   ],
   "source": [
    "lav=input(\"enter a name :\")\n",
    "i=0\n",
    "while(i<len(lav)):\n",
    "   print(\"the character at %d index position=%c\" %(i,lav[i]))\n",
    "   i=i+1\n",
    "    \n",
    "   "
   ]
  },
  {
   "cell_type": "code",
   "execution_count": 12,
   "id": "e02fa865",
   "metadata": {},
   "outputs": [
    {
     "name": "stdout",
     "output_type": "stream",
     "text": [
      "enter the=nbiuce\n",
      "the reversed string= ecuibn\n"
     ]
    }
   ],
   "source": [
    "lavanya=input(\"enter the=\")\n",
    "i=lavanya\n",
    "reverse=\"\"\n",
    "while(len(i)>0):\n",
    "    if(len(i)>0):\n",
    "        a=i[-1]\n",
    "        i=i[:-1]\n",
    "        reverse +=a\n",
    "print(\"the reversed string=\",reverse)"
   ]
  },
  {
   "cell_type": "code",
   "execution_count": 20,
   "id": "f1f053e9",
   "metadata": {},
   "outputs": [
    {
     "name": "stdout",
     "output_type": "stream",
     "text": [
      "enter the stringnikhi\n",
      "n\n",
      "ni\n",
      "nik\n",
      "nikh\n",
      "nikhi\n",
      "i\n",
      "ik\n",
      "ikh\n",
      "ikhi\n",
      "k\n",
      "kh\n",
      "khi\n",
      "h\n",
      "hi\n",
      "i\n"
     ]
    }
   ],
   "source": [
    "def lavanya(s,n):\n",
    "    for i in range (n):\n",
    "        for len in range (i+1,n+1):\n",
    "            print(s[i: len])\n",
    "s=input(\"enter the string\")\n",
    "lavanya(s,len(s))"
   ]
  }
 ],
 "metadata": {
  "kernelspec": {
   "display_name": "Python 3 (ipykernel)",
   "language": "python",
   "name": "python3"
  },
  "language_info": {
   "codemirror_mode": {
    "name": "ipython",
    "version": 3
   },
   "file_extension": ".py",
   "mimetype": "text/x-python",
   "name": "python",
   "nbconvert_exporter": "python",
   "pygments_lexer": "ipython3",
   "version": "3.10.9"
  }
 },
 "nbformat": 4,
 "nbformat_minor": 5
}
