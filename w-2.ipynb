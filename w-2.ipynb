{
 "cells": [
  {
   "cell_type": "code",
   "execution_count": 2,
   "id": "a721bbf5",
   "metadata": {},
   "outputs": [
    {
     "name": "stdout",
     "output_type": "stream",
     "text": [
      "total number of arguments passed: 3\n",
      "\n",
      "Name of python Script: C:\\ProgramData\\anaconda4\\lib\\site-packages\\ipykernel_launcher.py\n",
      "\n",
      "\n",
      "Arguments passed  -fC:\\Users\\Nikhil Sukthe\\AppData\\Roaming\\jupyter\\runtime\\kernel-6e7d65bd-419c-40aa-83e6-58884f3408e2.json"
     ]
    },
    {
     "ename": "ValueError",
     "evalue": "invalid literal for int() with base 10: '-f'",
     "output_type": "error",
     "traceback": [
      "\u001b[1;31m---------------------------------------------------------------------------\u001b[0m",
      "\u001b[1;31mValueError\u001b[0m                                Traceback (most recent call last)",
      "Cell \u001b[1;32mIn[2], line 10\u001b[0m\n\u001b[0;32m      8\u001b[0m \u001b[38;5;28msum\u001b[39m \u001b[38;5;241m=\u001b[39m \u001b[38;5;241m0\u001b[39m\n\u001b[0;32m      9\u001b[0m \u001b[38;5;28;01mfor\u001b[39;00m i \u001b[38;5;129;01min\u001b[39;00m \u001b[38;5;28mrange\u001b[39m(\u001b[38;5;241m1\u001b[39m,n):\n\u001b[1;32m---> 10\u001b[0m    \u001b[38;5;28msum\u001b[39m\u001b[38;5;241m+\u001b[39m\u001b[38;5;241m=\u001b[39m\u001b[38;5;28;43mint\u001b[39;49m\u001b[43m(\u001b[49m\u001b[43msys\u001b[49m\u001b[38;5;241;43m.\u001b[39;49m\u001b[43margv\u001b[49m\u001b[43m[\u001b[49m\u001b[43mi\u001b[49m\u001b[43m]\u001b[49m\u001b[43m)\u001b[49m\n\u001b[0;32m     11\u001b[0m \u001b[38;5;28mprint\u001b[39m(\u001b[38;5;124m\"\u001b[39m\u001b[38;5;130;01m\\n\u001b[39;00m\u001b[38;5;130;01m\\n\u001b[39;00m\u001b[38;5;124mResult=\u001b[39m\u001b[38;5;124m\"\u001b[39m,\u001b[38;5;28msum\u001b[39m)\n",
      "\u001b[1;31mValueError\u001b[0m: invalid literal for int() with base 10: '-f'"
     ]
    }
   ],
   "source": [
    "import sys\n",
    "n=len(sys.argv)\n",
    "print(\"total number of arguments passed:\",n)\n",
    "print(\"\\nName of python Script:\",sys.argv[0])\n",
    "print(\"\\n\\nArguments passed \",end=\" \")\n",
    "for i in range (1,n):\n",
    "    print(sys.argv[i],end=\"\")\n",
    "sum = 0\n",
    "for i in range(1,n):\n",
    "   sum+=int(sys.argv[i])\n",
    "print(\"\\n\\nResult=\",sum)"
   ]
  },
  {
   "cell_type": "code",
   "execution_count": 3,
   "id": "274d50bf",
   "metadata": {},
   "outputs": [
    {
     "name": "stdout",
     "output_type": "stream",
     "text": [
      "enter the a value=2\n",
      "enter the b value=2.44\n",
      "enter the c value=3.56\n",
      "8.0\n"
     ]
    }
   ],
   "source": [
    "a=float(input(\"enter the a value=\"))\n",
    "b=float(input(\"enter the b value=\"))\n",
    "c=float(input(\"enter the c value=\"))\n",
    "print(a+b+c)"
   ]
  },
  {
   "cell_type": "code",
   "execution_count": 3,
   "id": "422cb0bb",
   "metadata": {
    "scrolled": true
   },
   "outputs": [
    {
     "name": "stdout",
     "output_type": "stream",
     "text": [
      "options are: dict_keys(['s', 'a', 'l', 'aa', 'r'])\n",
      "DARLINGEY  = s\n",
      "the meaning= Prabhas(Our Darling 😁)\n",
      "DARLINGEY  = a\n",
      "the meaning= Upcoming Salaar\n",
      "DARLINGEY  = l\n",
      "the meaning= Teaser at\n",
      "DARLINGEY  = aa\n",
      "the meaning=  july 6 \n",
      "DARLINGEY  = r\n",
      "the meaning= 5:12 am darling celebrations are going to be Huge,Double,etc....\n"
     ]
    }
   ],
   "source": [
    "Hombale_films={\"s\":\"Prabhas(Our Darling 😁)\",\"a\":\"Upcoming Salaar\",\n",
    "               \"l\":\"Teaser at\",\"aa\":\" july 6 \",\n",
    "               \"r\":\"5:12 am darling celebrations are going to be Huge,Double,etc....\"} \n",
    "print(\"options are:\",Hombale_films.keys())\n",
    "s=(input(\"DARLINGEY  = \"))\n",
    "print(\"the meaning=\",Hombale_films.get(s))\n",
    "a=(input(\"DARLINGEY  = \"))\n",
    "print(\"the meaning=\",Hombale_films.get(a))\n",
    "l=(input(\"DARLINGEY  = \"))\n",
    "print(\"the meaning=\",Hombale_films.get(l))\n",
    "aa=(input(\"DARLINGEY  = \"))\n",
    "print(\"the meaning=\",Hombale_films.get(aa))\n",
    "r=(input(\"DARLINGEY  = \"))\n",
    "print(\"the meaning=\",Hombale_films.get(r))"
   ]
  },
  {
   "cell_type": "code",
   "execution_count": 4,
   "id": "c13def01",
   "metadata": {},
   "outputs": [
    {
     "name": "stdout",
     "output_type": "stream",
     "text": [
      "Enter a number: 122\n",
      "122 is not an Armstrong number\n"
     ]
    }
   ],
   "source": [
    "num = int(input(\"Enter a number: \"))\n",
    "sum = 0\n",
    "temp = num\n",
    "while temp > 0:\n",
    "   digit = temp % 10\n",
    "   sum += digit ** 3\n",
    "   temp //= 10\n",
    "if num == sum:\n",
    "   print(num,\"is an Armstrong number\")\n",
    "else:\n",
    "   print(num,\"is not an Armstrong number\")"
   ]
  },
  {
   "cell_type": "code",
   "execution_count": 10,
   "id": "9eb3393c",
   "metadata": {},
   "outputs": [
    {
     "name": "stdout",
     "output_type": "stream",
     "text": [
      "Enter number of rows: 7\n",
      "            * \n",
      "          * * * \n",
      "        * * * * * \n",
      "      * * * * * * * \n",
      "    * * * * * * * * * \n",
      "  * * * * * * * * * * * \n",
      "* * * * * * * * * * * * * \n"
     ]
    }
   ],
   "source": [
    "rows = int(input(\"Enter number of rows: \"))\n",
    "k = 0\n",
    "for i in range(1, rows+1):\n",
    "    for space in range(1, (rows-i)+1):\n",
    "        print(end=\"  \")\n",
    "    while k!=(2*i-1):\n",
    "        print(\"* \", end=\"\")\n",
    "        k += 1\n",
    "    k = 0\n",
    "    print()"
   ]
  },
  {
   "cell_type": "code",
   "execution_count": 11,
   "id": "a0822d27",
   "metadata": {},
   "outputs": [
    {
     "name": "stdout",
     "output_type": "stream",
     "text": [
      "12 x 1 = 12\n",
      "12 x 2 = 24\n",
      "12 x 3 = 36\n",
      "12 x 4 = 48\n",
      "12 x 5 = 60\n",
      "12 x 6 = 72\n",
      "12 x 7 = 84\n",
      "12 x 8 = 96\n",
      "12 x 9 = 108\n",
      "12 x 10 = 120\n"
     ]
    }
   ],
   "source": [
    "num = 12\n",
    "for i in range(1, 11):\n",
    "   print(num, 'x', i, '=', num*i)"
   ]
  },
  {
   "cell_type": "code",
   "execution_count": null,
   "id": "bc0ffe17",
   "metadata": {},
   "outputs": [],
   "source": []
  }
 ],
 "metadata": {
  "kernelspec": {
   "display_name": "Python 3 (ipykernel)",
   "language": "python",
   "name": "python3"
  },
  "language_info": {
   "codemirror_mode": {
    "name": "ipython",
    "version": 3
   },
   "file_extension": ".py",
   "mimetype": "text/x-python",
   "name": "python",
   "nbconvert_exporter": "python",
   "pygments_lexer": "ipython3",
   "version": "3.10.9"
  }
 },
 "nbformat": 4,
 "nbformat_minor": 5
}
